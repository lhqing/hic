{
 "cells": [
  {
   "cell_type": "markdown",
   "metadata": {},
   "source": [
    "# Lab Notebook\n",
    "## Hanqing Liu"
   ]
  },
  {
   "cell_type": "markdown",
   "metadata": {},
   "source": [
    "### Background\n",
    "- Input data, fastq files from pair-end HiC, two conditions:\n",
    "    - proB cell\n",
    "    - proB cell (treated with Gleevec)"
   ]
  },
  {
   "cell_type": "markdown",
   "metadata": {},
   "source": [
    "### 02/20/2018\n",
    "1. BAM files from Arthur\n",
    "Aligned by STAR\n",
    "\n",
    "2. make Tag dir for both hic exp by Arthur\n",
    "~~~~bash\n",
    "makeTagDirectory SOME_DIR -tbp 1 -removeSelfLigation -restrictionSite GATC -both -genome mm10 -removePEbg -removeRestrictionEnds hic_read1.bam,hic_read2.bam\n",
    "~~~~"
   ]
  },
  {
   "cell_type": "markdown",
   "metadata": {},
   "source": [
    "### 02/21/2018\n",
    "1. Generate HiC background\n",
    "~~~~bash\n",
    "analyzeHiC ~/data/TAG_DIR/ -res 25000 -bgonly -cpu 2\n",
    "~~~~\n",
    "\n",
    "2. Generate interaction matrix\n",
    "    - Generate whole genome matrix using low resolution (1M, 500K)\n",
    "    - Generate per chrom matrix using high resolution (25K)\n",
    "        - the relationship about reads length and resolution: https://www.biostars.org/p/173026/\n",
    "        - Here I assume 100M reads can reach ~25K resolution\n",
    "        - Generate 25K whole genome matrix would be too large (10^10). \n",
    "        - Interchrom interact are more sparse, should use lower resolution anyway.\n"
   ]
  },
  {
   "cell_type": "markdown",
   "metadata": {},
   "source": [
    "## 02/22/2018\n",
    "1. Generate interaction matrix\n",
    "~~~~bash\n",
    "python /home/hliu/src/hic/generate_matrix.py whole_genome --i=/home/hliu/data/proB-C-tag --o=/home/hliu/data/proB-C-matrix --name=c --cpu=12 --resolution=1000000 --bychr False -corr\n",
    "python /home/hliu/src/hic/generate_matrix.py whole_genome --i=/home/hliu/data/proB-G-tag --o=/home/hliu/data/proB-G-matrix --name=g --cpu=12 --resolution=1000000 --bychr False -corr\n",
    "python /home/hliu/src/hic/generate_matrix.py whole_genome --i=/home/hliu/data/proB-C-tag --o=/home/hliu/data/proB-C-matrix --name=c --cpu=1 --resolution=25000 --bychr True -corr\n",
    "python /home/hliu/src/hic/generate_matrix.py whole_genome --i=/home/hliu/data/proB-G-tag --o=/home/hliu/data/proB-G-matrix --name=g --cpu=1 --resolution=25000 --bychr True -corr\n",
    "~~~~\n",
    "\n",
    "2. Generate chrom level PCA, find compartments\n",
    "~~~~bash\n",
    "runHiCpca.pl g.PCA /home/hliu/data/proB-G-tag/ -res 25000 -cpu 5 -genome mm10\n",
    "runHiCpca.pl c.PCA /home/hliu/data/proB-C-tag/ -res 25000 -cpu 5 -genome mm10\n",
    "runHiCpca.pl g.PCA.1000000 /home/hliu/data/proB-G-tag/ -res 1000000 -cpu 5 -genome mm10\n",
    "runHiCpca.pl c.PCA.1000000 /home/hliu/data/proB-C-tag/ -res 1000000 -cpu 5 -genome mm10\n",
    "findHiCCompartments.pl c.PCA.PC1.txt > c.PCA.PC1.compartments.txt\n",
    "findHiCCompartments.pl g.PCA.PC1.txt > g.PCA.PC1.compartments.txt\n",
    "~~~~\n",
    "\n",
    "3. Generate correlation difference matrix, find diff compartments\n",
    "~~~~bash\n",
    "getHiCcorrDiff.pl c_vs_g /home/hliu/data/proB-C-tag/ /home/hliu/data/proB-G-tag/ -res 25000 -cpu 4\n",
    "findHiCCompartments.pl /home/hliu/data/proB-C-matrix/c.PCA.PC1.txt -bg /home/hliu/data/proB-G-matrix/g.PCA.PC1.txt -corr /home/hliu/data/compare/c_vs_g.corrDiff.txt > /home/hliu/data/compare/c_vs_g_diff_compartments.txt\n",
    "~~~~\n",
    "\n",
    "4. Annotate PCA regions\n",
    "~~~~bash\n",
    "annotatePeaks.pl tss mm10 -gtf /home/hliu/ref/gencode.vM16.annotation.gtf -bedGraph /home/hliu/data/proB-C-matrix/c.PCA.PC1.bedGraph /home/hliu/data/proB-G-matrix/g.PCA.PC1.bedGraph /home/hliu/data/compare/c_vs_g_diff_compartments.txt > /home/hliu/data/compare/region.anno.25000.txt\n",
    "~~~~\n",
    "\n",
    "5. Analyze these result\n",
    "    - see check_hic.ipynb"
   ]
  },
  {
   "cell_type": "markdown",
   "metadata": {},
   "source": [
    "## 02/27/2018\n",
    "1. Find significant interactions\n",
    "~~~~bash\n",
    "# for 25K, search intra only\n",
    "findHiCInteractionsByChr.pl ~/data/proB-G-tag -res 25000 -superRes 50000 -ped ~/data/proB-C-tag -cpu 4 > significantInteractions.25000.intra.txt\n",
    "# for 500K, search intra and inter\n",
    "analyzeHiC ~/data/proB-G-tag -res 500000 -interactions significantInteractions.500000.txt -nomatrix -ped ~/data/proB-C-tag -cpu 8\n",
    "~~~~"
   ]
  },
  {
   "cell_type": "markdown",
   "metadata": {},
   "source": [
    "### Plans\n",
    "- Generate plot for QC stat from Homer\n",
    "- Check HiCPro\n",
    "- Check higlass"
   ]
  },
  {
   "cell_type": "code",
   "execution_count": null,
   "metadata": {},
   "outputs": [],
   "source": []
  }
 ],
 "metadata": {
  "kernelspec": {
   "display_name": "Python 3",
   "language": "python",
   "name": "python3"
  },
  "language_info": {
   "codemirror_mode": {
    "name": "ipython",
    "version": 3
   },
   "file_extension": ".py",
   "mimetype": "text/x-python",
   "name": "python",
   "nbconvert_exporter": "python",
   "pygments_lexer": "ipython3",
   "version": "3.6.4"
  }
 },
 "nbformat": 4,
 "nbformat_minor": 2
}
